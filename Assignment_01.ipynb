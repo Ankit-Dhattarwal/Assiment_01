{
 "cells": [
  {
   "cell_type": "markdown",
   "id": "69c4a580-e6a9-487a-ae9d-c055f2480c0e",
   "metadata": {},
   "source": [
    "##### Q.1> Explain with an example each when to use a for loop and a while loop.\n"
   ]
  },
  {
   "cell_type": "markdown",
   "id": "e219884c-299b-4b5f-95e6-46d1fb448b0b",
   "metadata": {},
   "source": [
    "#### ANSWER"
   ]
  },
  {
   "cell_type": "markdown",
   "id": "d764e4b5-3b9f-44a1-8127-9f671fb1e6d7",
   "metadata": {},
   "source": [
    "#### A for loop in Python is used when you want to execute a block of code for a specific number of times."
   ]
  },
  {
   "cell_type": "code",
   "execution_count": 3,
   "id": "4ab9bd2a-7572-4ae8-b162-83cce6ab8f76",
   "metadata": {},
   "outputs": [
    {
     "name": "stdout",
     "output_type": "stream",
     "text": [
      "ankit\n",
      "ajay\n",
      "aman\n",
      "amit\n"
     ]
    }
   ],
   "source": [
    "names = ['ankit', 'ajay', 'aman', 'amit']\n",
    "\n",
    "for name in names:\n",
    "    print(name)"
   ]
  },
  {
   "cell_type": "markdown",
   "id": "1c7a922f-4523-4d64-8d33-679c17baf76e",
   "metadata": {},
   "source": [
    "#### On the other hand, a while loop is used when you want to execute a block of code until a specific condition is met. This is useful when you don't know how many times you need to execute the loop"
   ]
  },
  {
   "cell_type": "code",
   "execution_count": 4,
   "id": "6db685e0-a30f-499b-9623-08f912acae24",
   "metadata": {},
   "outputs": [
    {
     "name": "stdout",
     "output_type": "stream",
     "text": [
      "1\n",
      "2\n",
      "3\n",
      "4\n",
      "5\n",
      "6\n",
      "7\n",
      "8\n",
      "9\n",
      "10\n"
     ]
    }
   ],
   "source": [
    "i = 1\n",
    "\n",
    "while i <= 10:\n",
    "    print(i)\n",
    "    i += 1\n"
   ]
  },
  {
   "cell_type": "markdown",
   "id": "66b62345-24ec-454e-9e6b-7b5297c36e6f",
   "metadata": {},
   "source": [
    "##### Q.2> Write a python program to print the sum and product of the first 10 natural numbers using for and while loop."
   ]
  },
  {
   "cell_type": "markdown",
   "id": "e358fff8-4add-4e51-a5a6-1008644c48e0",
   "metadata": {},
   "source": [
    "#### ANSWER"
   ]
  },
  {
   "cell_type": "code",
   "execution_count": 16,
   "id": "1d848aee-7634-400a-8c48-d1aa789ca596",
   "metadata": {},
   "outputs": [
    {
     "name": "stdout",
     "output_type": "stream",
     "text": [
      "the sum is: 55\n",
      "the product is:  3628800\n"
     ]
    }
   ],
   "source": [
    "n = 10\n",
    "sum = 0\n",
    "product = 1\n",
    "\n",
    "for i in range(1, n+1):\n",
    "    sum =  sum + i\n",
    "    product = product * i\n",
    "        \n",
    "print(\"the sum is:\", sum)\n",
    "print(\"the product is: \", product)"
   ]
  },
  {
   "cell_type": "code",
   "execution_count": 1,
   "id": "690b4f9f-141e-4e35-a76c-b0dff1b0ee60",
   "metadata": {},
   "outputs": [
    {
     "name": "stdout",
     "output_type": "stream",
     "text": [
      "Print the sum: 55\n",
      "Print the product:  3628800\n"
     ]
    }
   ],
   "source": [
    "n = 10\n",
    "sum = 0\n",
    "product = 1\n",
    "\n",
    "i = 1\n",
    "while i<=n:\n",
    "    sum = sum +i\n",
    "    product = product * i\n",
    "    i = i +1\n",
    "    \n",
    "print(\"Print the sum:\",sum)\n",
    "print(\"Print the product: \", product)"
   ]
  },
  {
   "cell_type": "markdown",
   "id": "f38d78e9-9868-40fc-892e-152185601d26",
   "metadata": {},
   "source": [
    "##### Q.3> Create a python program to compute the electricity bill for a household. The per-unit charges in rupees are as follows: For the first 100 units, the user will be charged Rs. 4.5 per unit, for the next 100 units, the user will be charged Rs. 6 per unit, and for the next 100 units, the user will be charged Rs. 10 per unit, After 300 units and above the user will be charged Rs. 20 per unit. You are required to take the units of electricity consumed in a month from the user as input.Your program must pass this test case: when the unit of electricity consumed by the user in a month is 310, the total electricity bill should be 2250."
   ]
  },
  {
   "cell_type": "markdown",
   "id": "a68518f7-9499-4537-8e13-5692fe54836d",
   "metadata": {},
   "source": [
    "#### ANSWER"
   ]
  },
  {
   "cell_type": "code",
   "execution_count": 21,
   "id": "137153ce-41a0-4fa2-af51-00ec98fce64c",
   "metadata": {},
   "outputs": [
    {
     "name": "stdin",
     "output_type": "stream",
     "text": [
      "Enter the units of electricity consumed:  310\n"
     ]
    },
    {
     "name": "stdout",
     "output_type": "stream",
     "text": [
      "Total electricity bill: 2250.0\n"
     ]
    }
   ],
   "source": [
    "units = int(input(\"Enter the units of electricity consumed: \"))\n",
    "\n",
    "if units <= 100:\n",
    "    charges = units * 4.5\n",
    "elif units <= 200:\n",
    "    charges = 100 * 4.5 + (units - 100) * 6\n",
    "elif units <= 300:\n",
    "    charges = 100 * 4.5 + 100 * 6 + (units - 200) * 10\n",
    "else:\n",
    "    charges = 100 * 4.5 + 100 * 6 + 100 * 10 + (units - 300) * 20\n",
    "\n",
    "print(f\"Total electricity bill: {charges}\")\n"
   ]
  },
  {
   "cell_type": "markdown",
   "id": "72be57d8-4100-4ea0-9e25-df35346c1939",
   "metadata": {},
   "source": [
    "##### Q.4> Create a list of numbers from 1 to 100. Use for loop and while loop to calculate the cube of each number and if the cube of that number is divisible by 4 or 5 then append that number in a list and print that list."
   ]
  },
  {
   "cell_type": "markdown",
   "id": "07239e9f-1213-4887-9987-2283ee0621ce",
   "metadata": {},
   "source": [
    "#### ANSWER"
   ]
  },
  {
   "cell_type": "code",
   "execution_count": 22,
   "id": "96246ef2-c4a3-4f5b-b22e-166fd530b41b",
   "metadata": {},
   "outputs": [
    {
     "name": "stdout",
     "output_type": "stream",
     "text": [
      "[2, 4, 5, 6, 8, 10, 12, 14, 15, 16, 18, 20, 22, 24, 25, 26, 28, 30, 32, 34, 35, 36, 38, 40, 42, 44, 45, 46, 48, 50, 52, 54, 55, 56, 58, 60, 62, 64, 65, 66, 68, 70, 72, 74, 75, 76, 78, 80, 82, 84, 85, 86, 88, 90, 92, 94, 95, 96, 98, 100]\n"
     ]
    }
   ],
   "source": [
    "cubes = []\n",
    "for num in range(1, 101):\n",
    "    cube = num ** 3\n",
    "    if cube % 4 == 0 or cube % 5 == 0:\n",
    "        cubes.append(num)\n",
    "print(cubes)"
   ]
  },
  {
   "cell_type": "code",
   "execution_count": 23,
   "id": "e07fff32-17ad-449b-be16-d9c78a1c6e95",
   "metadata": {},
   "outputs": [
    {
     "name": "stdout",
     "output_type": "stream",
     "text": [
      "[2, 4, 5, 6, 8, 10, 12, 14, 15, 16, 18, 20, 22, 24, 25, 26, 28, 30, 32, 34, 35, 36, 38, 40, 42, 44, 45, 46, 48, 50, 52, 54, 55, 56, 58, 60, 62, 64, 65, 66, 68, 70, 72, 74, 75, 76, 78, 80, 82, 84, 85, 86, 88, 90, 92, 94, 95, 96, 98, 100]\n"
     ]
    }
   ],
   "source": [
    "cubes = []\n",
    "num = 1\n",
    "while num <= 100:\n",
    "    cube = num ** 3\n",
    "    if cube % 4 == 0 or cube % 5 == 0:\n",
    "        cubes.append(num)\n",
    "    num += 1\n",
    "print(cubes)"
   ]
  },
  {
   "cell_type": "markdown",
   "id": "e8ec359e-1d6f-45d6-acc7-43de054d1a16",
   "metadata": {},
   "source": [
    "#### Q.5> Write a program to filter count vowels in the below-given string. string = \"I want to become a data scientist\""
   ]
  },
  {
   "cell_type": "markdown",
   "id": "291a4a61-a858-4143-8197-66747a5b2bc2",
   "metadata": {},
   "source": [
    "#### ANSWER"
   ]
  },
  {
   "cell_type": "code",
   "execution_count": 24,
   "id": "e9daa04d-a37b-4a7b-b753-179769da4632",
   "metadata": {},
   "outputs": [
    {
     "name": "stdout",
     "output_type": "stream",
     "text": [
      "The number of vowels in the given string is: 12\n"
     ]
    }
   ],
   "source": [
    "string = \"I want to become a data scientist\"\n",
    "\n",
    "vowels = \"aeiouAEIOU\"\n",
    "\n",
    "count = 0\n",
    "for char in string:\n",
    "    if char in vowels:\n",
    "        count += 1\n",
    "\n",
    "print(\"The number of vowels in the given string is:\", count)"
   ]
  },
  {
   "cell_type": "code",
   "execution_count": null,
   "id": "20af456f-1a35-435b-92f9-cc322f6b989a",
   "metadata": {},
   "outputs": [],
   "source": []
  }
 ],
 "metadata": {
  "kernelspec": {
   "display_name": "Python 3 (ipykernel)",
   "language": "python",
   "name": "python3"
  },
  "language_info": {
   "codemirror_mode": {
    "name": "ipython",
    "version": 3
   },
   "file_extension": ".py",
   "mimetype": "text/x-python",
   "name": "python",
   "nbconvert_exporter": "python",
   "pygments_lexer": "ipython3",
   "version": "3.10.8"
  }
 },
 "nbformat": 4,
 "nbformat_minor": 5
}
